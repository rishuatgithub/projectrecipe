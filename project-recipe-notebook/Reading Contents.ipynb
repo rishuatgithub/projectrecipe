{
 "cells": [
  {
   "cell_type": "code",
   "execution_count": 73,
   "metadata": {},
   "outputs": [],
   "source": [
    "import requests\n",
    "import urllib.request\n",
    "from bs4 import BeautifulSoup\n",
    "import re\n",
    "\n",
    "\n",
    "web_urls=['https://www.jamieoliver.com/recipes/']\n",
    "\n",
    "#response = [requests.get(r) for r in web_urls]\n",
    "\n",
    "class WebConnection:\n",
    "    \n",
    "    def __init__(self,url):\n",
    "        self.url = url\n",
    "    \n",
    "    def getresponse(self):\n",
    "        response = requests.get(self.url)\n",
    "        return response\n",
    "    \n",
    "    def getcontent(self):\n",
    "        response = self.getresponse()\n",
    "        content = BeautifulSoup(response.content)\n",
    "        return content\n",
    "    \n",
    "\n",
    "#connectWebObj = WebConnection(web_urls[0])\n",
    "#con = connectWebObj.getcontent()"
   ]
  },
  {
   "cell_type": "code",
   "execution_count": 126,
   "metadata": {},
   "outputs": [
    {
     "name": "stdout",
     "output_type": "stream",
     "text": [
      "Parsing web url: https://www.jamieoliver.com/recipes/\n"
     ]
    },
    {
     "data": {
      "text/plain": [
       "{'title': 'All recipes | Jamie Oliver',\n",
       " 'firstblock': ['https://www.jamieoliver.com/recipes/category/ingredient/',\n",
       "  'https://www.jamieoliver.com/recipes/category/dishtype/',\n",
       "  'https://www.jamieoliver.com/recipes/category/course/',\n",
       "  'https://www.jamieoliver.com/recipes/category/occasion/',\n",
       "  'https://www.jamieoliver.com/recipes/category/special-diets/',\n",
       "  'https://www.jamieoliver.com/recipes/category/world/',\n",
       "  'https://www.jamieoliver.com/family-food/',\n",
       "  'https://www.jamieoliver.com/recipes/kids-recipes/',\n",
       "  'https://www.jamieoliver.com/recipes/category/books/'],\n",
       " 'firstblock_title': ['Main ingredient',\n",
       "  'Dish type',\n",
       "  'Meals & courses',\n",
       "  'Special occasions',\n",
       "  'Special diets',\n",
       "  'World food',\n",
       "  'Family Food',\n",
       "  'Kids recipes',\n",
       "  'Books & TV']}"
      ]
     },
     "execution_count": 126,
     "metadata": {},
     "output_type": "execute_result"
    }
   ],
   "source": [
    "search_strings = {'l1':'tile-wrapper','l2':'recipe-block'}\n",
    "\n",
    "def parsingJOWeb():\n",
    "    url = web_urls[0]\n",
    "    web_parsed_content = {}\n",
    "    \n",
    "    print(f\"Parsing web url: {url}\")\n",
    "    cont = WebConnection(url).getcontent()\n",
    "    web_parsed_content['title'] = cont.title.text\n",
    "    \n",
    "    firstblock = cont.find_all(\"div\",{'class':search_strings['l1']})\n",
    "    web_parsed_content['firstblock'] = [f.find_all(\"a\")[0].get(\"href\") for f in firstblock]\n",
    "    web_parsed_content['firstblock_title'] = [f.find(\"div\",{'class':'tile-title'}).text for f in firstblock]\n",
    "    \n",
    "    return web_parsed_content\n",
    "    \n",
    "    \n",
    "\n",
    "parsingJOWeb()"
   ]
  },
  {
   "cell_type": "code",
   "execution_count": null,
   "metadata": {},
   "outputs": [],
   "source": []
  }
 ],
 "metadata": {
  "kernelspec": {
   "display_name": "Python 3",
   "language": "python",
   "name": "python3"
  },
  "language_info": {
   "codemirror_mode": {
    "name": "ipython",
    "version": 3
   },
   "file_extension": ".py",
   "mimetype": "text/x-python",
   "name": "python",
   "nbconvert_exporter": "python",
   "pygments_lexer": "ipython3",
   "version": "3.7.4"
  }
 },
 "nbformat": 4,
 "nbformat_minor": 2
}
