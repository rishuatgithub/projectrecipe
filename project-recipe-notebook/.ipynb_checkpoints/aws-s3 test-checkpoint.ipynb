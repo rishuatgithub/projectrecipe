{
 "cells": [
  {
   "cell_type": "code",
   "execution_count": 1,
   "metadata": {},
   "outputs": [],
   "source": [
    "import boto3 as boto"
   ]
  },
  {
   "cell_type": "code",
   "execution_count": 3,
   "metadata": {},
   "outputs": [],
   "source": [
    "s3 = boto.resource('s3')"
   ]
  },
  {
   "cell_type": "code",
   "execution_count": 44,
   "metadata": {},
   "outputs": [
    {
     "name": "stdout",
     "output_type": "stream",
     "text": [
      "s3.Bucket(name='elasticbeanstalk-us-east-1-884990048700')\n"
     ]
    }
   ],
   "source": [
    "for bucket in s3.buckets.all():\n",
    "    print(bucket)"
   ]
  },
  {
   "cell_type": "code",
   "execution_count": 28,
   "metadata": {},
   "outputs": [
    {
     "data": {
      "text/plain": [
       "s3.Bucket(name='awscb-test-rishu20200505')"
      ]
     },
     "execution_count": 28,
     "metadata": {},
     "output_type": "execute_result"
    }
   ],
   "source": [
    "s3.create_bucket(Bucket='awscb-test-rishu20200505')"
   ]
  },
  {
   "cell_type": "code",
   "execution_count": 29,
   "metadata": {},
   "outputs": [],
   "source": [
    "S3Client = boto.client('s3')"
   ]
  },
  {
   "cell_type": "code",
   "execution_count": 9,
   "metadata": {},
   "outputs": [],
   "source": [
    "S3Client.upload_file(Filename='app.py',Bucket='awscb-test-rishu20200505',Key='app')"
   ]
  },
  {
   "cell_type": "code",
   "execution_count": 42,
   "metadata": {},
   "outputs": [
    {
     "data": {
      "text/plain": [
       "{'ResponseMetadata': {'RequestId': '2ABE05A5C7BB459F',\n",
       "  'HostId': '87U3mlCp2M7leyaSmhfhw20yS1OjMdRU6n6t79iVqOZC5o0it8Zb3pwrvC6fiSpGT89mX2/jzxo=',\n",
       "  'HTTPStatusCode': 200,\n",
       "  'HTTPHeaders': {'x-amz-id-2': '87U3mlCp2M7leyaSmhfhw20yS1OjMdRU6n6t79iVqOZC5o0it8Zb3pwrvC6fiSpGT89mX2/jzxo=',\n",
       "   'x-amz-request-id': '2ABE05A5C7BB459F',\n",
       "   'date': 'Fri, 08 May 2020 16:20:37 GMT',\n",
       "   'connection': 'close',\n",
       "   'content-type': 'application/xml',\n",
       "   'transfer-encoding': 'chunked',\n",
       "   'server': 'AmazonS3'},\n",
       "  'RetryAttempts': 0},\n",
       " 'Deleted': [{'Key': 'app'}]}"
      ]
     },
     "execution_count": 42,
     "metadata": {},
     "output_type": "execute_result"
    }
   ],
   "source": [
    "objects = S3Client.list_objects(Bucket='awscb-test-rishu20200505')\n",
    "\n",
    "delete_keys = {'Objects' : []}\n",
    "delete_keys['Objects'] = [{'Key' : k} for k in [obj['Key'] for obj in objects.get('Contents', [])]]\n",
    "\n",
    "s3.meta.client.delete_objects(Bucket=\"awscb-test-rishu20200505\", Delete=delete_keys)"
   ]
  },
  {
   "cell_type": "code",
   "execution_count": 43,
   "metadata": {},
   "outputs": [
    {
     "data": {
      "text/plain": [
       "{'ResponseMetadata': {'RequestId': '115A73DA7FA5396F',\n",
       "  'HostId': 'kuZhyhCxcpY1PFjU6j+eMj4tYP96BtqUkDvZ7CNWACgHlyjvHhNXj1uJJqigVwNjL2txAC0/UC0=',\n",
       "  'HTTPStatusCode': 204,\n",
       "  'HTTPHeaders': {'x-amz-id-2': 'kuZhyhCxcpY1PFjU6j+eMj4tYP96BtqUkDvZ7CNWACgHlyjvHhNXj1uJJqigVwNjL2txAC0/UC0=',\n",
       "   'x-amz-request-id': '115A73DA7FA5396F',\n",
       "   'date': 'Fri, 08 May 2020 16:20:44 GMT',\n",
       "   'server': 'AmazonS3'},\n",
       "  'RetryAttempts': 0}}"
      ]
     },
     "execution_count": 43,
     "metadata": {},
     "output_type": "execute_result"
    }
   ],
   "source": [
    "S3Client.delete_bucket(Bucket='awscb-test-rishu20200505')"
   ]
  },
  {
   "cell_type": "code",
   "execution_count": null,
   "metadata": {},
   "outputs": [],
   "source": []
  }
 ],
 "metadata": {
  "kernelspec": {
   "display_name": "Python 3",
   "language": "python",
   "name": "python3"
  },
  "language_info": {
   "codemirror_mode": {
    "name": "ipython",
    "version": 3
   },
   "file_extension": ".py",
   "mimetype": "text/x-python",
   "name": "python",
   "nbconvert_exporter": "python",
   "pygments_lexer": "ipython3",
   "version": "3.7.4"
  }
 },
 "nbformat": 4,
 "nbformat_minor": 2
}
